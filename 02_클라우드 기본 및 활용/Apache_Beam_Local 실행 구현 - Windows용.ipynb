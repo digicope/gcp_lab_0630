{
 "cells": [
  {
   "cell_type": "markdown",
   "metadata": {},
   "source": [
    "### Apache Beam Local 실행 구현  및  처리 함수 분석 (For Dataflow 실습) - Windows용"
   ]
  },
  {
   "cell_type": "code",
   "execution_count": 1,
   "metadata": {},
   "outputs": [],
   "source": [
    "# apache-beam 설치\n",
    "# !pip install apache-beam"
   ]
  },
  {
   "cell_type": "code",
   "execution_count": 2,
   "metadata": {},
   "outputs": [
    {
     "name": "stdout",
     "output_type": "stream",
     "text": [
      "        1개 파일이 복사되었습니다.\n"
     ]
    }
   ],
   "source": [
    "! mkdir tmp\n",
    "! mkdir javahelp\n",
    "! copy IsPopular.java .\\javahelp"
   ]
  },
  {
   "cell_type": "code",
   "execution_count": 3,
   "metadata": {},
   "outputs": [
    {
     "name": "stderr",
     "output_type": "stream",
     "text": [
      "WARNING:apache_beam.runners.interactive.interactive_environment:Dependencies required for Interactive Beam PCollection visualization are not available, please use: `pip install apache-beam[interactive]` to install necessary dependencies to enable all data visualization features.\n"
     ]
    },
    {
     "data": {
      "application/javascript": [
       "\n",
       "        if (typeof window.interactive_beam_jquery == 'undefined') {\n",
       "          var jqueryScript = document.createElement('script');\n",
       "          jqueryScript.src = 'https://code.jquery.com/jquery-3.4.1.slim.min.js';\n",
       "          jqueryScript.type = 'text/javascript';\n",
       "          jqueryScript.onload = function() {\n",
       "            var datatableScript = document.createElement('script');\n",
       "            datatableScript.src = 'https://cdn.datatables.net/1.10.20/js/jquery.dataTables.min.js';\n",
       "            datatableScript.type = 'text/javascript';\n",
       "            datatableScript.onload = function() {\n",
       "              window.interactive_beam_jquery = jQuery.noConflict(true);\n",
       "              window.interactive_beam_jquery(document).ready(function($){\n",
       "                \n",
       "              });\n",
       "            }\n",
       "            document.head.appendChild(datatableScript);\n",
       "          };\n",
       "          document.head.appendChild(jqueryScript);\n",
       "        } else {\n",
       "          window.interactive_beam_jquery(document).ready(function($){\n",
       "            \n",
       "          });\n",
       "        }"
      ]
     },
     "metadata": {},
     "output_type": "display_data"
    },
    {
     "name": "stderr",
     "output_type": "stream",
     "text": [
      "WARNING:apache_beam.options.pipeline_options:Discarding unparseable args: ['C:\\\\Users\\\\storm\\\\anaconda3\\\\envs\\\\tf210\\\\lib\\\\site-packages\\\\ipykernel_launcher.py', '-f', 'C:\\\\Users\\\\storm\\\\AppData\\\\Roaming\\\\jupyter\\\\runtime\\\\kernel-5364f28c-bab7-4867-b086-6af735d5765b.json']\n",
      "WARNING:apache_beam.options.pipeline_options:Discarding unparseable args: ['C:\\\\Users\\\\storm\\\\anaconda3\\\\envs\\\\tf210\\\\lib\\\\site-packages\\\\ipykernel_launcher.py', '-f', 'C:\\\\Users\\\\storm\\\\AppData\\\\Roaming\\\\jupyter\\\\runtime\\\\kernel-5364f28c-bab7-4867-b086-6af735d5765b.json']\n"
     ]
    }
   ],
   "source": [
    "import apache_beam as beam\n",
    "import sys\n",
    "\n",
    "# 기존 출력 파일 삭제\n",
    "import os\n",
    "output_text_file = \"tmp/output-00000-of-00001\"\n",
    "if (os.path.isfile(output_text_file)):\n",
    "    os.remove(output_text_file)\n",
    "    \n",
    "def my_grep(line, term):\n",
    "   if line.startswith(term):\n",
    "      yield line\n",
    "\n",
    "if __name__ == '__main__':\n",
    "   p = beam.Pipeline(argv=sys.argv)\n",
    "   input = 'javahelp/IsPopular.java'\n",
    "   output_prefix = 'tmp/output'\n",
    "   searchTerm = 'import'\n",
    "\n",
    "   # find all lines that contain the searchTerm\n",
    "   (p\n",
    "      | 'GetJava' >> beam.io.ReadFromText(input)\n",
    "      | 'Grep' >> beam.FlatMap(lambda line: my_grep(line, searchTerm) )\n",
    "      | 'write' >> beam.io.WriteToText(output_prefix)\n",
    "   )\n",
    "\n",
    "   p.run().wait_until_finish()\n"
   ]
  },
  {
   "cell_type": "code",
   "execution_count": 4,
   "metadata": {},
   "outputs": [
    {
     "name": "stdout",
     "output_type": "stream",
     "text": [
      "import java.util.ArrayList;\n",
      "import java.util.List;\n",
      "import org.apache.beam.sdk.Pipeline;\n",
      "import org.apache.beam.sdk.io.TextIO;\n",
      "import org.apache.beam.sdk.options.Default;\n",
      "import org.apache.beam.sdk.options.Description;\n",
      "import org.apache.beam.sdk.options.PipelineOptions;\n",
      "import org.apache.beam.sdk.options.PipelineOptionsFactory;\n",
      "import org.apache.beam.sdk.transforms.DoFn;\n",
      "import org.apache.beam.sdk.transforms.ParDo;\n",
      "import org.apache.beam.sdk.transforms.Sum;\n",
      "import org.apache.beam.sdk.transforms.Top;\n",
      "import org.apache.beam.sdk.values.KV;\n"
     ]
    }
   ],
   "source": [
    "# Window OS\n",
    "!type tmp\\output-00000-of-00001"
   ]
  },
  {
   "cell_type": "code",
   "execution_count": 5,
   "metadata": {},
   "outputs": [
    {
     "name": "stderr",
     "output_type": "stream",
     "text": [
      "WARNING:apache_beam.options.pipeline_options:Discarding unparseable args: ['C:\\\\Users\\\\storm\\\\anaconda3\\\\envs\\\\tf210\\\\lib\\\\site-packages\\\\ipykernel_launcher.py', '-f', 'C:\\\\Users\\\\storm\\\\AppData\\\\Roaming\\\\jupyter\\\\runtime\\\\kernel-5364f28c-bab7-4867-b086-6af735d5765b.json']\n",
      "WARNING:apache_beam.options.pipeline_options:Discarding unparseable args: ['C:\\\\Users\\\\storm\\\\anaconda3\\\\envs\\\\tf210\\\\lib\\\\site-packages\\\\ipykernel_launcher.py', '-f', 'C:\\\\Users\\\\storm\\\\AppData\\\\Roaming\\\\jupyter\\\\runtime\\\\kernel-5364f28c-bab7-4867-b086-6af735d5765b.json']\n"
     ]
    },
    {
     "data": {
      "text/plain": [
       "<apache_beam.runners.portability.fn_api_runner.fn_runner.RunnerResult at 0x2673d1a4e20>"
      ]
     },
     "execution_count": 5,
     "metadata": {},
     "output_type": "execute_result"
    }
   ],
   "source": [
    "import apache_beam as beam\n",
    "import sys\n",
    "\n",
    "# 기존 출력 파일 삭제\n",
    "import os\n",
    "output_text_file = \"tmp/output-00000-of-00001\"\n",
    "if (os.path.isfile(output_text_file)):\n",
    "    os.remove(output_text_file)\n",
    "\n",
    "def startsWith(line, term):\n",
    "   if line.startswith(term):\n",
    "      yield line\n",
    "\n",
    "def splitPackageName(packageName):\n",
    "   \"\"\"e.g. given com.example.appname.library.widgetname\n",
    "           returns com\n",
    "\t           com.example\n",
    "                   com.example.appname\n",
    "      etc.\n",
    "   \"\"\"\n",
    "   result = []\n",
    "   end = packageName.find('.')\n",
    "   while end > 0:\n",
    "      result.append(packageName[0:end])\n",
    "      end = packageName.find('.', end+1)\n",
    "   result.append(packageName)\n",
    "   return result\n",
    "\n",
    "def getPackages(line, keyword):\n",
    "   start = line.find(keyword) + len(keyword)\n",
    "   end = line.find(';', start)\n",
    "   if start < end:\n",
    "      packageName = line[start:end].strip()\n",
    "      return splitPackageName(packageName)\n",
    "   return []\n",
    "\n",
    "def packageUse(line, keyword):\n",
    "   packages = getPackages(line, keyword)\n",
    "   for p in packages:\n",
    "      yield (p, 1)\n",
    "    \n",
    "keyword = 'import'\n",
    "input = 'javahelp/IsPopular.java'\n",
    "output_prefix = 'tmp/output'\n",
    "\n",
    "p = beam.Pipeline(argv=sys.argv)\n",
    "# find most used packages\n",
    "(p\n",
    "  | 'GetJava' >> beam.io.ReadFromText(input)\n",
    "  | 'GetImports' >> beam.FlatMap(lambda line: startsWith(line, keyword))\n",
    "  | 'PackageUse' >> beam.FlatMap(lambda line: packageUse(line, keyword))\n",
    "  | 'TotalUse' >> beam.CombinePerKey(sum)\n",
    "  | 'Top_5' >> beam.transforms.combiners.Top.Of(5, key=lambda kv: kv[1])\n",
    "  | 'write' >> beam.io.WriteToText(output_prefix)\n",
    ")\n",
    "\n",
    "p.run()"
   ]
  },
  {
   "cell_type": "code",
   "execution_count": 6,
   "metadata": {},
   "outputs": [
    {
     "name": "stdout",
     "output_type": "stream",
     "text": [
      "[('org.apache.beam.sdk', 11), ('org.apache', 11), ('org.apache.beam', 11), ('org', 11), ('org.apache.beam.sdk.options', 4)]\n"
     ]
    }
   ],
   "source": [
    "# Window OS\n",
    "!type tmp\\output-00000-of-00001\n",
    "\n"
   ]
  },
  {
   "cell_type": "code",
   "execution_count": null,
   "metadata": {},
   "outputs": [],
   "source": []
  },
  {
   "cell_type": "markdown",
   "metadata": {},
   "source": [
    "### Generator"
   ]
  },
  {
   "cell_type": "code",
   "execution_count": 7,
   "metadata": {},
   "outputs": [
    {
     "name": "stdout",
     "output_type": "stream",
     "text": [
      "[]\n",
      "['import org.apache.beam.sdk.Pipeline;']\n",
      "['import org.apache.beam.sdk.io.TextIO;']\n",
      "['import org.apache.beam.sdk.options.PipelineOptions;']\n",
      "['import org.apache.beam.sdk.options.PipelineOptionsFactory;']\n",
      "['import org.apache.beam.sdk.transforms.DoFn;']\n",
      "['import org.apache.beam.sdk.transforms.ParDo;']\n"
     ]
    }
   ],
   "source": [
    "# Generator\n",
    "lines= ['package com.google.cloud.training.dataanalyst.javahelp;',\n",
    "        'import org.apache.beam.sdk.Pipeline;',\n",
    "        'import org.apache.beam.sdk.io.TextIO;',\n",
    "        'import org.apache.beam.sdk.options.PipelineOptions;',\n",
    "        'import org.apache.beam.sdk.options.PipelineOptionsFactory;',\n",
    "        'import org.apache.beam.sdk.transforms.DoFn;',\n",
    "        'import org.apache.beam.sdk.transforms.ParDo;' ]\n",
    "\n",
    "keyword ='import'\n",
    "def startsWith(line, term):\n",
    "    if line.startswith(term):\n",
    "        yield line\n",
    "        \n",
    "result = map(lambda line: startsWith(line, keyword),lines)\n",
    "for k in result:\n",
    "    print(list(k))"
   ]
  },
  {
   "cell_type": "code",
   "execution_count": 8,
   "metadata": {},
   "outputs": [],
   "source": [
    "# import pandas as pd\n",
    "# d = {'a':[1,2,3,4],\n",
    "#      'b':[5,6,7,8],\n",
    "#      'c':[9,10,11,12]}\n",
    "# df = pd.DataFrame(d)\n",
    "# print(df.a)\n",
    "# print(df['a'])\n",
    "# df"
   ]
  },
  {
   "cell_type": "code",
   "execution_count": 9,
   "metadata": {},
   "outputs": [],
   "source": [
    "# a,b,c = (1,2,3)"
   ]
  },
  {
   "cell_type": "markdown",
   "metadata": {},
   "source": [
    "#### 문자열 처리 함수 분석"
   ]
  },
  {
   "cell_type": "code",
   "execution_count": 10,
   "metadata": {},
   "outputs": [
    {
     "data": {
      "text/plain": [
       "['com',\n",
       " 'com.example',\n",
       " 'com.example.appname',\n",
       " 'com.example.appname.library',\n",
       " 'com.example.appname.library.widgetname']"
      ]
     },
     "execution_count": 10,
     "metadata": {},
     "output_type": "execute_result"
    }
   ],
   "source": [
    "def splitPackageName(packageName):\n",
    "   \"\"\"e.g. given com.example.appname.library.widgetname\n",
    "           returns com\n",
    "\t           com.example\n",
    "                   com.example.appname\n",
    "      etc.\n",
    "   \"\"\"\n",
    "   result = []\n",
    "   end = packageName.find('.')\n",
    "   while end > 0:\n",
    "      result.append(packageName[0:end])\n",
    "      end = packageName.find('.', end+1)\n",
    "   result.append(packageName)\n",
    "   return result\n",
    "\n",
    "str1 = 'com.example.appname.library.widgetname'\n",
    "splitPackageName(str1)"
   ]
  },
  {
   "cell_type": "code",
   "execution_count": 11,
   "metadata": {},
   "outputs": [
    {
     "data": {
      "text/plain": [
       "['org',\n",
       " 'org.apache',\n",
       " 'org.apache.beam',\n",
       " 'org.apache.beam.sdk',\n",
       " 'org.apache.beam.sdk.Pipeline']"
      ]
     },
     "execution_count": 11,
     "metadata": {},
     "output_type": "execute_result"
    }
   ],
   "source": [
    "def getPackages(line, keyword):\n",
    "   start = line.find(keyword) + len(keyword)\n",
    "   end = line.find(';', start)\n",
    "   if start < end:\n",
    "      packageName = line[start:end].strip()\n",
    "      return splitPackageName(packageName)\n",
    "   return []\n",
    "\n",
    "getPackages(lines[1],keyword)"
   ]
  },
  {
   "cell_type": "code",
   "execution_count": 12,
   "metadata": {},
   "outputs": [
    {
     "name": "stdout",
     "output_type": "stream",
     "text": [
      "['org', 1]\n",
      "['org.apache', 1]\n",
      "['org.apache.beam', 1]\n",
      "['org.apache.beam.sdk', 1]\n",
      "['org.apache.beam.sdk.Pipeline', 1]\n"
     ]
    }
   ],
   "source": [
    "def packageUse(line, keyword):\n",
    "   packages = getPackages(line, keyword)\n",
    "   for p in packages:\n",
    "      yield (p, 1)\n",
    "output = packageUse(lines[1], keyword)    \n",
    "for k in output:\n",
    "    print(list(k))"
   ]
  },
  {
   "cell_type": "code",
   "execution_count": null,
   "metadata": {},
   "outputs": [],
   "source": []
  }
 ],
 "metadata": {
  "kernelspec": {
   "display_name": "Python 3 (ipykernel)",
   "language": "python",
   "name": "python3"
  },
  "language_info": {
   "codemirror_mode": {
    "name": "ipython",
    "version": 3
   },
   "file_extension": ".py",
   "mimetype": "text/x-python",
   "name": "python",
   "nbconvert_exporter": "python",
   "pygments_lexer": "ipython3",
   "version": "3.9.16"
  }
 },
 "nbformat": 4,
 "nbformat_minor": 4
}
